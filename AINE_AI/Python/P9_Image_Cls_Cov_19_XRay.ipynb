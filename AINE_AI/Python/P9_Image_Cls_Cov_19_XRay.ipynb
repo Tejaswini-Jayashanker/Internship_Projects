{
  "nbformat": 4,
  "nbformat_minor": 0,
  "metadata": {
    "colab": {
      "name": "P9_Image_Cls_Cov-19_XRay.ipynb",
      "provenance": [],
      "collapsed_sections": []
    },
    "kernelspec": {
      "name": "python3",
      "display_name": "Python 3"
    },
    "language_info": {
      "name": "python"
    },
    "accelerator": "GPU"
  },
  "cells": [
    {
      "cell_type": "code",
      "execution_count": 1,
      "metadata": {
        "colab": {
          "base_uri": "https://localhost:8080/"
        },
        "id": "04eCxSkYL2Qt",
        "outputId": "00335d50-afd3-4ed5-ac64-91669d239285"
      },
      "outputs": [
        {
          "output_type": "stream",
          "name": "stdout",
          "text": [
            "Mounted at /content/gdrive\n"
          ]
        }
      ],
      "source": [
        "from google.colab import drive\n",
        "drive.mount('/content/gdrive')"
      ]
    },
    {
      "cell_type": "code",
      "source": [
        "import os\n",
        "import pandas as pd\n",
        "import numpy as np\n",
        "from tqdm import tqdm\n",
        "import keras\n",
        "from keras.utils.np_utils import to_categorical\n",
        "import cv2\n",
        "import tensorflow as tf\n",
        "from sklearn.model_selection import train_test_split\n",
        "from keras.layers import  Flatten, Dense, Dropout\n",
        "from keras.callbacks import ModelCheckpoint, ReduceLROnPlateau\n",
        "\n",
        "from keras.applications import resnet\n",
        "model = resnet.ResNet50\n",
        "\n",
        "from keras.models import Model, Input\n",
        "from keras import optimizers\n",
        "from tensorflow.keras.optimizers import Adam\n",
        "from keras.layers import Dense, GlobalAveragePooling2D\n",
        "from keras.layers import Dense, Dropout, Flatten, Conv2D, MaxPool2D, BatchNormalization, AveragePooling2D, GlobalAveragePooling2D\n",
        "import keras_preprocessing\n",
        "from keras_preprocessing import image\n",
        "from keras_preprocessing.image import ImageDataGenerator\n",
        "from keras import callbacks\n",
        "import matplotlib.pyplot as plt\n",
        "from sklearn.metrics import confusion_matrix\n",
        "import seaborn as sns"
      ],
      "metadata": {
        "id": "1kq6m8WcQdMx"
      },
      "execution_count": 2,
      "outputs": []
    },
    {
      "cell_type": "code",
      "source": [
        "%tensorflow_version 2.x\n",
        "print(tf.__version__)\n",
        "print(tf.test.gpu_device_name())\n",
        "print(\"Num GPUs Available: \", len(tf.config.experimental.list_physical_devices('GPU')))"
      ],
      "metadata": {
        "colab": {
          "base_uri": "https://localhost:8080/"
        },
        "id": "PX0vWTaLQtii",
        "outputId": "e246e944-ef45-4a5d-95ad-d647c621437f"
      },
      "execution_count": 3,
      "outputs": [
        {
          "output_type": "stream",
          "name": "stdout",
          "text": [
            "2.8.0\n",
            "/device:GPU:0\n",
            "Num GPUs Available:  1\n"
          ]
        }
      ]
    },
    {
      "cell_type": "code",
      "source": [
        "%cd /content/gdrive/\"My Drive\"/\"AINE_AI_Private\""
      ],
      "metadata": {
        "colab": {
          "base_uri": "https://localhost:8080/"
        },
        "id": "MXhztzynRbS3",
        "outputId": "227622a1-bbbf-4383-cdc1-91e53b064077"
      },
      "execution_count": 4,
      "outputs": [
        {
          "output_type": "stream",
          "name": "stdout",
          "text": [
            "/content/gdrive/My Drive/AINE_AI_Private\n"
          ]
        }
      ]
    },
    {
      "cell_type": "code",
      "source": [
        "os.environ['KAGGLE_CONFIG_DIR'] = \"/content/gdrive/MyDrive/AINE_AI_Private/Covid-19_Dataset\"\n",
        "!kaggle datasets download -d plameneduardo/sarscov2-ctscan-dataset\n",
        "!unzip \\*.zip  && rm *.zip"
      ],
      "metadata": {
        "colab": {
          "base_uri": "https://localhost:8080/"
        },
        "id": "nLRFt6GPR8xe",
        "outputId": "b7d9662a-7e85-4dc4-8c3f-bd57af008c33"
      },
      "execution_count": 5,
      "outputs": [
        {
          "output_type": "stream",
          "name": "stdout",
          "text": [
            "Traceback (most recent call last):\n",
            "  File \"/usr/local/bin/kaggle\", line 5, in <module>\n",
            "    from kaggle.cli import main\n",
            "  File \"/usr/local/lib/python3.7/dist-packages/kaggle/__init__.py\", line 23, in <module>\n",
            "    api.authenticate()\n",
            "  File \"/usr/local/lib/python3.7/dist-packages/kaggle/api/kaggle_api_extended.py\", line 166, in authenticate\n",
            "    self.config_file, self.config_dir))\n",
            "OSError: Could not find kaggle.json. Make sure it's located in /content/gdrive/MyDrive/AINE_AI_Private/Covid-19_Dataset. Or use the environment method.\n",
            "unzip:  cannot find or open *.zip, *.zip.zip or *.zip.ZIP.\n",
            "\n",
            "No zipfiles found.\n"
          ]
        }
      ]
    },
    {
      "cell_type": "code",
      "source": [
        "disease_types=['COVID', 'non-COVID']\n",
        "data_dir = '/content/gdrive/MyDrive/AINE_AI_Private/Covid-19_Dataset'\n",
        "train_dir = os.path.join(data_dir)"
      ],
      "metadata": {
        "id": "PhBoLaC9SI5S"
      },
      "execution_count": 6,
      "outputs": []
    },
    {
      "cell_type": "code",
      "source": [
        "train_data = []\n",
        "for defects_id, sp in enumerate(disease_types):\n",
        "    for file in os.listdir(os.path.join(train_dir, sp)):\n",
        "        train_data.append(['{}/{}'.format(sp, file), defects_id, sp])      \n",
        "train = pd.DataFrame(train_data, columns=['File', 'DiseaseID','Disease Type'])"
      ],
      "metadata": {
        "id": "tgJMlrjZS2H8"
      },
      "execution_count": 7,
      "outputs": []
    },
    {
      "cell_type": "code",
      "source": [
        "IMAGE_SIZE = 64\n",
        "def read_image(filepath):\n",
        "    return cv2.imread(os.path.join(data_dir, filepath)) \n",
        "def resize_image(image, image_size):\n",
        "    return cv2.resize(image.copy(), image_size, interpolation=cv2.INTER_AREA)"
      ],
      "metadata": {
        "id": "gLLXfPhuWgGx"
      },
      "execution_count": 8,
      "outputs": []
    },
    {
      "cell_type": "code",
      "source": [
        "X_train = np.zeros((train.shape[0], IMAGE_SIZE, IMAGE_SIZE, 3))\n",
        "for i, file in tqdm(enumerate(train['File'].values)):\n",
        "    image = read_image(file)\n",
        "    if image is not None:\n",
        "        X_train[i] = resize_image(image, (IMAGE_SIZE, IMAGE_SIZE))\n",
        "X_Train = X_train / 255.\n",
        "print(X_Train.shape)"
      ],
      "metadata": {
        "colab": {
          "base_uri": "https://localhost:8080/"
        },
        "id": "ffDlSOkTWh7i",
        "outputId": "6ff653a3-6bc0-4892-f6de-91a58af2b001"
      },
      "execution_count": 9,
      "outputs": [
        {
          "output_type": "stream",
          "name": "stderr",
          "text": [
            "2271it [09:45,  3.88it/s]"
          ]
        },
        {
          "output_type": "stream",
          "name": "stdout",
          "text": [
            "(2271, 64, 64, 3)\n"
          ]
        },
        {
          "output_type": "stream",
          "name": "stderr",
          "text": [
            "\n"
          ]
        }
      ]
    },
    {
      "cell_type": "code",
      "source": [
        "Y_train = train['DiseaseID'].values\n",
        "Y_train = to_categorical(Y_train, num_classes=2)"
      ],
      "metadata": {
        "id": "UaNbjYDwWjcp"
      },
      "execution_count": 10,
      "outputs": []
    },
    {
      "cell_type": "code",
      "source": [
        "X_train, X_val, Y_train, Y_val = train_test_split(X_Train, Y_train, test_size=0.2, random_state = 42)"
      ],
      "metadata": {
        "id": "1jaEYE6nWlC6"
      },
      "execution_count": 11,
      "outputs": []
    },
    {
      "cell_type": "code",
      "source": [
        "#VGG16 Model Architecture\n",
        "BATCH_SIZE = 64\n",
        "EPOCHS = 100\n",
        "SIZE=64\n",
        "N_ch=3"
      ],
      "metadata": {
        "id": "eoXDV8m0XviN"
      },
      "execution_count": 12,
      "outputs": []
    },
    {
      "cell_type": "code",
      "source": [
        "def build_resnet50():\n",
        "    resnet50 = resnet.ResNet50(weights='imagenet', include_top=False)\n",
        "\n",
        "    input = Input(shape=(SIZE, SIZE, N_ch))\n",
        "    x = Conv2D(3, (3, 3), padding='same')(input)\n",
        "    \n",
        "    x = resnet50(x)\n",
        "    \n",
        "    x = GlobalAveragePooling2D()(x)\n",
        "    x = BatchNormalization()(x)\n",
        "    x = Dropout(0.5)(x)\n",
        "    x = Dense(256, activation='relu')(x)\n",
        "    x = BatchNormalization()(x)\n",
        "    x = Dropout(0.5)(x)\n",
        "\n",
        "    # multi output\n",
        "    output = Dense(2,activation = 'softmax', name='root')(x)\n",
        " \n",
        "\n",
        "    # model\n",
        "    model = Model(input,output)\n",
        "    \n",
        "    optimizer = Adam(lr=0.003, beta_1=0.9, beta_2=0.999, epsilon=0.1, decay=0.0)\n",
        "    model.compile(loss='categorical_crossentropy', optimizer=optimizer, metrics=['accuracy'])\n",
        "    model.summary()\n",
        "    \n",
        "    return model"
      ],
      "metadata": {
        "id": "w_PW4t9oX1kc"
      },
      "execution_count": 13,
      "outputs": []
    },
    {
      "cell_type": "code",
      "source": [
        "model = build_resnet50()\n",
        "annealer = ReduceLROnPlateau(monitor='val_accuracy', factor=0.70, patience=5, verbose=1, min_lr=1e-4)\n",
        "checkpoint = ModelCheckpoint('ResNet50_Model.hdf5', verbose=1, save_best_only=True)\n",
        "datagen = ImageDataGenerator(rotation_range=360, \n",
        "                        width_shift_range=0.2, \n",
        "                        height_shift_range=0.2,\n",
        "                        zoom_range=0.2, \n",
        "                        horizontal_flip=True, \n",
        "                        vertical_flip=True) \n",
        "\n",
        "datagen.fit(X_train)"
      ],
      "metadata": {
        "colab": {
          "base_uri": "https://localhost:8080/"
        },
        "id": "9tvMfTCuX45v",
        "outputId": "d8efe702-3db3-4faa-f90f-5b3ce1522012"
      },
      "execution_count": 14,
      "outputs": [
        {
          "output_type": "stream",
          "name": "stdout",
          "text": [
            "Downloading data from https://storage.googleapis.com/tensorflow/keras-applications/resnet/resnet50_weights_tf_dim_ordering_tf_kernels_notop.h5\n",
            "94773248/94765736 [==============================] - 1s 0us/step\n",
            "94781440/94765736 [==============================] - 1s 0us/step\n",
            "Model: \"model\"\n",
            "_________________________________________________________________\n",
            " Layer (type)                Output Shape              Param #   \n",
            "=================================================================\n",
            " input_2 (InputLayer)        [(None, 64, 64, 3)]       0         \n",
            "                                                                 \n",
            " conv2d (Conv2D)             (None, 64, 64, 3)         84        \n",
            "                                                                 \n",
            " resnet50 (Functional)       (None, None, None, 2048)  23587712  \n",
            "                                                                 \n",
            " global_average_pooling2d (G  (None, 2048)             0         \n",
            " lobalAveragePooling2D)                                          \n",
            "                                                                 \n",
            " batch_normalization (BatchN  (None, 2048)             8192      \n",
            " ormalization)                                                   \n",
            "                                                                 \n",
            " dropout (Dropout)           (None, 2048)              0         \n",
            "                                                                 \n",
            " dense (Dense)               (None, 256)               524544    \n",
            "                                                                 \n",
            " batch_normalization_1 (Batc  (None, 256)              1024      \n",
            " hNormalization)                                                 \n",
            "                                                                 \n",
            " dropout_1 (Dropout)         (None, 256)               0         \n",
            "                                                                 \n",
            " root (Dense)                (None, 2)                 514       \n",
            "                                                                 \n",
            "=================================================================\n",
            "Total params: 24,122,070\n",
            "Trainable params: 24,064,342\n",
            "Non-trainable params: 57,728\n",
            "_________________________________________________________________\n"
          ]
        },
        {
          "output_type": "stream",
          "name": "stderr",
          "text": [
            "/usr/local/lib/python3.7/dist-packages/keras/optimizer_v2/adam.py:105: UserWarning: The `lr` argument is deprecated, use `learning_rate` instead.\n",
            "  super(Adam, self).__init__(name, **kwargs)\n"
          ]
        }
      ]
    },
    {
      "cell_type": "code",
      "source": [
        "history = model.fit_generator(datagen.flow(X_train, Y_train, batch_size=BATCH_SIZE),\n",
        "               steps_per_epoch=X_train.shape[0] // BATCH_SIZE,\n",
        "               epochs=EPOCHS,\n",
        "               verbose=1,\n",
        "               callbacks=[annealer, checkpoint],\n",
        "               validation_data=(X_val, Y_val))"
      ],
      "metadata": {
        "id": "B2obcijbX8mZ",
        "colab": {
          "base_uri": "https://localhost:8080/"
        },
        "outputId": "1dd0084b-e3b5-4e2f-fb87-f95130343919"
      },
      "execution_count": 15,
      "outputs": [
        {
          "output_type": "stream",
          "name": "stderr",
          "text": [
            "/usr/local/lib/python3.7/dist-packages/ipykernel_launcher.py:6: UserWarning: `Model.fit_generator` is deprecated and will be removed in a future version. Please use `Model.fit`, which supports generators.\n",
            "  \n"
          ]
        },
        {
          "output_type": "stream",
          "name": "stdout",
          "text": [
            "Epoch 1/100\n",
            "28/28 [==============================] - ETA: 0s - loss: 0.9848 - accuracy: 0.5965\n",
            "Epoch 1: val_loss improved from inf to 1.78234, saving model to ResNet50_Model.hdf5\n",
            "28/28 [==============================] - 36s 612ms/step - loss: 0.9848 - accuracy: 0.5965 - val_loss: 1.7823 - val_accuracy: 0.4352 - lr: 0.0030\n",
            "Epoch 2/100\n",
            "28/28 [==============================] - ETA: 0s - loss: 0.6143 - accuracy: 0.7460\n",
            "Epoch 2: val_loss did not improve from 1.78234\n",
            "28/28 [==============================] - 6s 218ms/step - loss: 0.6143 - accuracy: 0.7460 - val_loss: 5.8954 - val_accuracy: 0.4352 - lr: 0.0030\n",
            "Epoch 3/100\n",
            "28/28 [==============================] - ETA: 0s - loss: 0.3911 - accuracy: 0.8493\n",
            "Epoch 3: val_loss did not improve from 1.78234\n",
            "28/28 [==============================] - 7s 232ms/step - loss: 0.3911 - accuracy: 0.8493 - val_loss: 13.8807 - val_accuracy: 0.4352 - lr: 0.0030\n",
            "Epoch 4/100\n",
            "28/28 [==============================] - ETA: 0s - loss: 0.2700 - accuracy: 0.8893\n",
            "Epoch 4: val_loss did not improve from 1.78234\n",
            "28/28 [==============================] - 6s 215ms/step - loss: 0.2700 - accuracy: 0.8893 - val_loss: 23.4791 - val_accuracy: 0.4352 - lr: 0.0030\n",
            "Epoch 5/100\n",
            "28/28 [==============================] - ETA: 0s - loss: 0.2297 - accuracy: 0.9127\n",
            "Epoch 5: val_loss did not improve from 1.78234\n",
            "28/28 [==============================] - 6s 218ms/step - loss: 0.2297 - accuracy: 0.9127 - val_loss: 23.8181 - val_accuracy: 0.4352 - lr: 0.0030\n",
            "Epoch 6/100\n",
            "28/28 [==============================] - ETA: 0s - loss: 0.1877 - accuracy: 0.9315\n",
            "Epoch 6: ReduceLROnPlateau reducing learning rate to 0.002100000018253922.\n",
            "\n",
            "Epoch 6: val_loss did not improve from 1.78234\n",
            "28/28 [==============================] - 6s 215ms/step - loss: 0.1877 - accuracy: 0.9315 - val_loss: 26.1913 - val_accuracy: 0.4352 - lr: 0.0030\n",
            "Epoch 7/100\n",
            "28/28 [==============================] - ETA: 0s - loss: 0.1617 - accuracy: 0.9395\n",
            "Epoch 7: val_loss did not improve from 1.78234\n",
            "28/28 [==============================] - 6s 215ms/step - loss: 0.1617 - accuracy: 0.9395 - val_loss: 26.0426 - val_accuracy: 0.4352 - lr: 0.0021\n",
            "Epoch 8/100\n",
            "28/28 [==============================] - ETA: 0s - loss: 0.1460 - accuracy: 0.9452\n",
            "Epoch 8: val_loss did not improve from 1.78234\n",
            "28/28 [==============================] - 6s 216ms/step - loss: 0.1460 - accuracy: 0.9452 - val_loss: 23.5583 - val_accuracy: 0.4352 - lr: 0.0021\n",
            "Epoch 9/100\n",
            "28/28 [==============================] - ETA: 0s - loss: 0.1440 - accuracy: 0.9475\n",
            "Epoch 9: val_loss did not improve from 1.78234\n",
            "28/28 [==============================] - 6s 216ms/step - loss: 0.1440 - accuracy: 0.9475 - val_loss: 26.5035 - val_accuracy: 0.4352 - lr: 0.0021\n",
            "Epoch 10/100\n",
            "28/28 [==============================] - ETA: 0s - loss: 0.1324 - accuracy: 0.9481\n",
            "Epoch 10: val_loss did not improve from 1.78234\n",
            "28/28 [==============================] - 6s 218ms/step - loss: 0.1324 - accuracy: 0.9481 - val_loss: 29.6254 - val_accuracy: 0.4352 - lr: 0.0021\n",
            "Epoch 11/100\n",
            "28/28 [==============================] - ETA: 0s - loss: 0.1320 - accuracy: 0.9492\n",
            "Epoch 11: ReduceLROnPlateau reducing learning rate to 0.0014699999475851653.\n",
            "\n",
            "Epoch 11: val_loss did not improve from 1.78234\n",
            "28/28 [==============================] - 6s 215ms/step - loss: 0.1320 - accuracy: 0.9492 - val_loss: 25.5999 - val_accuracy: 0.4352 - lr: 0.0021\n",
            "Epoch 12/100\n",
            "28/28 [==============================] - ETA: 0s - loss: 0.1103 - accuracy: 0.9532\n",
            "Epoch 12: val_loss did not improve from 1.78234\n",
            "28/28 [==============================] - 6s 215ms/step - loss: 0.1103 - accuracy: 0.9532 - val_loss: 23.7699 - val_accuracy: 0.4352 - lr: 0.0015\n",
            "Epoch 13/100\n",
            "28/28 [==============================] - ETA: 0s - loss: 0.1100 - accuracy: 0.9640\n",
            "Epoch 13: val_loss did not improve from 1.78234\n",
            "28/28 [==============================] - 6s 221ms/step - loss: 0.1100 - accuracy: 0.9640 - val_loss: 22.9702 - val_accuracy: 0.4352 - lr: 0.0015\n",
            "Epoch 14/100\n",
            "28/28 [==============================] - ETA: 0s - loss: 0.0961 - accuracy: 0.9635\n",
            "Epoch 14: val_loss did not improve from 1.78234\n",
            "28/28 [==============================] - 6s 214ms/step - loss: 0.0961 - accuracy: 0.9635 - val_loss: 30.1732 - val_accuracy: 0.4352 - lr: 0.0015\n",
            "Epoch 15/100\n",
            "28/28 [==============================] - ETA: 0s - loss: 0.0930 - accuracy: 0.9686\n",
            "Epoch 15: val_loss did not improve from 1.78234\n",
            "28/28 [==============================] - 6s 217ms/step - loss: 0.0930 - accuracy: 0.9686 - val_loss: 32.8309 - val_accuracy: 0.4352 - lr: 0.0015\n",
            "Epoch 16/100\n",
            "28/28 [==============================] - ETA: 0s - loss: 0.0853 - accuracy: 0.9680\n",
            "Epoch 16: ReduceLROnPlateau reducing learning rate to 0.0010289999307133257.\n",
            "\n",
            "Epoch 16: val_loss did not improve from 1.78234\n",
            "28/28 [==============================] - 6s 215ms/step - loss: 0.0853 - accuracy: 0.9680 - val_loss: 28.0963 - val_accuracy: 0.4352 - lr: 0.0015\n",
            "Epoch 17/100\n",
            "28/28 [==============================] - ETA: 0s - loss: 0.0899 - accuracy: 0.9658\n",
            "Epoch 17: val_loss did not improve from 1.78234\n",
            "28/28 [==============================] - 6s 214ms/step - loss: 0.0899 - accuracy: 0.9658 - val_loss: 28.6887 - val_accuracy: 0.4352 - lr: 0.0010\n",
            "Epoch 18/100\n",
            "28/28 [==============================] - ETA: 0s - loss: 0.0785 - accuracy: 0.9732\n",
            "Epoch 18: val_loss did not improve from 1.78234\n",
            "28/28 [==============================] - 6s 216ms/step - loss: 0.0785 - accuracy: 0.9732 - val_loss: 33.7123 - val_accuracy: 0.4352 - lr: 0.0010\n",
            "Epoch 19/100\n",
            "28/28 [==============================] - ETA: 0s - loss: 0.0725 - accuracy: 0.9737\n",
            "Epoch 19: val_loss did not improve from 1.78234\n",
            "28/28 [==============================] - 6s 215ms/step - loss: 0.0725 - accuracy: 0.9737 - val_loss: 34.6415 - val_accuracy: 0.4352 - lr: 0.0010\n",
            "Epoch 20/100\n",
            "28/28 [==============================] - ETA: 0s - loss: 0.0694 - accuracy: 0.9755\n",
            "Epoch 20: val_loss did not improve from 1.78234\n",
            "28/28 [==============================] - 6s 216ms/step - loss: 0.0694 - accuracy: 0.9755 - val_loss: 29.2147 - val_accuracy: 0.4352 - lr: 0.0010\n",
            "Epoch 21/100\n",
            "28/28 [==============================] - ETA: 0s - loss: 0.0759 - accuracy: 0.9715\n",
            "Epoch 21: ReduceLROnPlateau reducing learning rate to 0.0007202999433502554.\n",
            "\n",
            "Epoch 21: val_loss did not improve from 1.78234\n",
            "28/28 [==============================] - 6s 219ms/step - loss: 0.0759 - accuracy: 0.9715 - val_loss: 24.7780 - val_accuracy: 0.4352 - lr: 0.0010\n",
            "Epoch 22/100\n",
            "28/28 [==============================] - ETA: 0s - loss: 0.0701 - accuracy: 0.9772\n",
            "Epoch 22: val_loss did not improve from 1.78234\n",
            "28/28 [==============================] - 6s 219ms/step - loss: 0.0701 - accuracy: 0.9772 - val_loss: 22.4563 - val_accuracy: 0.4352 - lr: 7.2030e-04\n",
            "Epoch 23/100\n",
            "28/28 [==============================] - ETA: 0s - loss: 0.0819 - accuracy: 0.9726\n",
            "Epoch 23: val_loss did not improve from 1.78234\n",
            "28/28 [==============================] - 6s 214ms/step - loss: 0.0819 - accuracy: 0.9726 - val_loss: 18.2964 - val_accuracy: 0.4352 - lr: 7.2030e-04\n",
            "Epoch 24/100\n",
            "28/28 [==============================] - ETA: 0s - loss: 0.0497 - accuracy: 0.9800\n",
            "Epoch 24: val_loss did not improve from 1.78234\n",
            "28/28 [==============================] - 6s 219ms/step - loss: 0.0497 - accuracy: 0.9800 - val_loss: 11.8180 - val_accuracy: 0.4352 - lr: 7.2030e-04\n",
            "Epoch 25/100\n",
            "28/28 [==============================] - ETA: 0s - loss: 0.0757 - accuracy: 0.9720\n",
            "Epoch 25: val_loss did not improve from 1.78234\n",
            "28/28 [==============================] - 6s 217ms/step - loss: 0.0757 - accuracy: 0.9720 - val_loss: 9.0693 - val_accuracy: 0.4352 - lr: 7.2030e-04\n",
            "Epoch 26/100\n",
            "28/28 [==============================] - ETA: 0s - loss: 0.0562 - accuracy: 0.9749\n",
            "Epoch 26: ReduceLROnPlateau reducing learning rate to 0.0005042099684942513.\n",
            "\n",
            "Epoch 26: val_loss did not improve from 1.78234\n",
            "28/28 [==============================] - 6s 219ms/step - loss: 0.0562 - accuracy: 0.9749 - val_loss: 7.5230 - val_accuracy: 0.4352 - lr: 7.2030e-04\n",
            "Epoch 27/100\n",
            "28/28 [==============================] - ETA: 0s - loss: 0.0459 - accuracy: 0.9834\n",
            "Epoch 27: val_loss did not improve from 1.78234\n",
            "28/28 [==============================] - 7s 266ms/step - loss: 0.0459 - accuracy: 0.9834 - val_loss: 5.2818 - val_accuracy: 0.4352 - lr: 5.0421e-04\n",
            "Epoch 28/100\n",
            "28/28 [==============================] - ETA: 0s - loss: 0.0569 - accuracy: 0.9795\n",
            "Epoch 28: val_loss did not improve from 1.78234\n",
            "28/28 [==============================] - 7s 223ms/step - loss: 0.0569 - accuracy: 0.9795 - val_loss: 3.5449 - val_accuracy: 0.4396 - lr: 5.0421e-04\n",
            "Epoch 29/100\n",
            "28/28 [==============================] - ETA: 0s - loss: 0.0715 - accuracy: 0.9743\n",
            "Epoch 29: val_loss did not improve from 1.78234\n",
            "28/28 [==============================] - 6s 216ms/step - loss: 0.0715 - accuracy: 0.9743 - val_loss: 1.9486 - val_accuracy: 0.4703 - lr: 5.0421e-04\n",
            "Epoch 30/100\n",
            "28/28 [==============================] - ETA: 0s - loss: 0.0564 - accuracy: 0.9777\n",
            "Epoch 30: val_loss improved from 1.78234 to 1.07404, saving model to ResNet50_Model.hdf5\n",
            "28/28 [==============================] - 11s 397ms/step - loss: 0.0564 - accuracy: 0.9777 - val_loss: 1.0740 - val_accuracy: 0.5407 - lr: 5.0421e-04\n",
            "Epoch 31/100\n",
            "28/28 [==============================] - ETA: 0s - loss: 0.0710 - accuracy: 0.9755\n",
            "Epoch 31: val_loss improved from 1.07404 to 0.63749, saving model to ResNet50_Model.hdf5\n",
            "28/28 [==============================] - 8s 301ms/step - loss: 0.0710 - accuracy: 0.9755 - val_loss: 0.6375 - val_accuracy: 0.6505 - lr: 5.0421e-04\n",
            "Epoch 32/100\n",
            "28/28 [==============================] - ETA: 0s - loss: 0.0698 - accuracy: 0.9777\n",
            "Epoch 32: val_loss improved from 0.63749 to 0.49767, saving model to ResNet50_Model.hdf5\n",
            "28/28 [==============================] - 8s 297ms/step - loss: 0.0698 - accuracy: 0.9777 - val_loss: 0.4977 - val_accuracy: 0.7341 - lr: 5.0421e-04\n",
            "Epoch 33/100\n",
            "28/28 [==============================] - ETA: 0s - loss: 0.0628 - accuracy: 0.9777\n",
            "Epoch 33: val_loss improved from 0.49767 to 0.34446, saving model to ResNet50_Model.hdf5\n",
            "28/28 [==============================] - 8s 296ms/step - loss: 0.0628 - accuracy: 0.9777 - val_loss: 0.3445 - val_accuracy: 0.8396 - lr: 5.0421e-04\n",
            "Epoch 34/100\n",
            "28/28 [==============================] - ETA: 0s - loss: 0.0541 - accuracy: 0.9829\n",
            "Epoch 34: val_loss improved from 0.34446 to 0.22064, saving model to ResNet50_Model.hdf5\n",
            "28/28 [==============================] - 8s 298ms/step - loss: 0.0541 - accuracy: 0.9829 - val_loss: 0.2206 - val_accuracy: 0.9077 - lr: 5.0421e-04\n",
            "Epoch 35/100\n",
            "28/28 [==============================] - ETA: 0s - loss: 0.0632 - accuracy: 0.9806\n",
            "Epoch 35: val_loss improved from 0.22064 to 0.15336, saving model to ResNet50_Model.hdf5\n",
            "28/28 [==============================] - 10s 343ms/step - loss: 0.0632 - accuracy: 0.9806 - val_loss: 0.1534 - val_accuracy: 0.9407 - lr: 5.0421e-04\n",
            "Epoch 36/100\n",
            "28/28 [==============================] - ETA: 0s - loss: 0.0640 - accuracy: 0.9772\n",
            "Epoch 36: val_loss improved from 0.15336 to 0.07775, saving model to ResNet50_Model.hdf5\n",
            "28/28 [==============================] - 8s 299ms/step - loss: 0.0640 - accuracy: 0.9772 - val_loss: 0.0778 - val_accuracy: 0.9758 - lr: 5.0421e-04\n",
            "Epoch 37/100\n",
            "28/28 [==============================] - ETA: 0s - loss: 0.0663 - accuracy: 0.9760\n",
            "Epoch 37: val_loss improved from 0.07775 to 0.05233, saving model to ResNet50_Model.hdf5\n",
            "28/28 [==============================] - 9s 307ms/step - loss: 0.0663 - accuracy: 0.9760 - val_loss: 0.0523 - val_accuracy: 0.9824 - lr: 5.0421e-04\n",
            "Epoch 38/100\n",
            "28/28 [==============================] - ETA: 0s - loss: 0.0467 - accuracy: 0.9823\n",
            "Epoch 38: val_loss improved from 0.05233 to 0.04677, saving model to ResNet50_Model.hdf5\n",
            "28/28 [==============================] - 9s 326ms/step - loss: 0.0467 - accuracy: 0.9823 - val_loss: 0.0468 - val_accuracy: 0.9846 - lr: 5.0421e-04\n",
            "Epoch 39/100\n",
            "28/28 [==============================] - ETA: 0s - loss: 0.0592 - accuracy: 0.9840\n",
            "Epoch 39: val_loss improved from 0.04677 to 0.04450, saving model to ResNet50_Model.hdf5\n",
            "28/28 [==============================] - 8s 299ms/step - loss: 0.0592 - accuracy: 0.9840 - val_loss: 0.0445 - val_accuracy: 0.9846 - lr: 5.0421e-04\n",
            "Epoch 40/100\n",
            "28/28 [==============================] - ETA: 0s - loss: 0.0581 - accuracy: 0.9806\n",
            "Epoch 40: val_loss improved from 0.04450 to 0.04332, saving model to ResNet50_Model.hdf5\n",
            "28/28 [==============================] - 8s 301ms/step - loss: 0.0581 - accuracy: 0.9806 - val_loss: 0.0433 - val_accuracy: 0.9846 - lr: 5.0421e-04\n",
            "Epoch 41/100\n",
            "28/28 [==============================] - ETA: 0s - loss: 0.0568 - accuracy: 0.9817\n",
            "Epoch 41: val_loss did not improve from 0.04332\n",
            "28/28 [==============================] - 6s 216ms/step - loss: 0.0568 - accuracy: 0.9817 - val_loss: 0.0525 - val_accuracy: 0.9802 - lr: 5.0421e-04\n",
            "Epoch 42/100\n",
            "28/28 [==============================] - ETA: 0s - loss: 0.0505 - accuracy: 0.9823\n",
            "Epoch 42: val_loss did not improve from 0.04332\n",
            "28/28 [==============================] - 6s 221ms/step - loss: 0.0505 - accuracy: 0.9823 - val_loss: 0.0518 - val_accuracy: 0.9780 - lr: 5.0421e-04\n",
            "Epoch 43/100\n",
            "28/28 [==============================] - ETA: 0s - loss: 0.0572 - accuracy: 0.9834\n",
            "Epoch 43: ReduceLROnPlateau reducing learning rate to 0.0003529469657223671.\n",
            "\n",
            "Epoch 43: val_loss did not improve from 0.04332\n",
            "28/28 [==============================] - 6s 216ms/step - loss: 0.0572 - accuracy: 0.9834 - val_loss: 0.0721 - val_accuracy: 0.9670 - lr: 5.0421e-04\n",
            "Epoch 44/100\n",
            "28/28 [==============================] - ETA: 0s - loss: 0.0655 - accuracy: 0.9777\n",
            "Epoch 44: val_loss did not improve from 0.04332\n",
            "28/28 [==============================] - 6s 216ms/step - loss: 0.0655 - accuracy: 0.9777 - val_loss: 0.0995 - val_accuracy: 0.9516 - lr: 3.5295e-04\n",
            "Epoch 45/100\n",
            "28/28 [==============================] - ETA: 0s - loss: 0.0617 - accuracy: 0.9772\n",
            "Epoch 45: val_loss did not improve from 0.04332\n",
            "28/28 [==============================] - 6s 217ms/step - loss: 0.0617 - accuracy: 0.9772 - val_loss: 0.0834 - val_accuracy: 0.9560 - lr: 3.5295e-04\n",
            "Epoch 46/100\n",
            "28/28 [==============================] - ETA: 0s - loss: 0.0443 - accuracy: 0.9852\n",
            "Epoch 46: val_loss did not improve from 0.04332\n",
            "28/28 [==============================] - 6s 217ms/step - loss: 0.0443 - accuracy: 0.9852 - val_loss: 0.0753 - val_accuracy: 0.9670 - lr: 3.5295e-04\n",
            "Epoch 47/100\n",
            "28/28 [==============================] - ETA: 0s - loss: 0.0497 - accuracy: 0.9852\n",
            "Epoch 47: val_loss did not improve from 0.04332\n",
            "28/28 [==============================] - 6s 219ms/step - loss: 0.0497 - accuracy: 0.9852 - val_loss: 0.0892 - val_accuracy: 0.9582 - lr: 3.5295e-04\n",
            "Epoch 48/100\n",
            "28/28 [==============================] - ETA: 0s - loss: 0.0400 - accuracy: 0.9846\n",
            "Epoch 48: ReduceLROnPlateau reducing learning rate to 0.0002470628678565845.\n",
            "\n",
            "Epoch 48: val_loss did not improve from 0.04332\n",
            "28/28 [==============================] - 6s 215ms/step - loss: 0.0400 - accuracy: 0.9846 - val_loss: 0.0871 - val_accuracy: 0.9604 - lr: 3.5295e-04\n",
            "Epoch 49/100\n",
            "28/28 [==============================] - ETA: 0s - loss: 0.0647 - accuracy: 0.9834\n",
            "Epoch 49: val_loss did not improve from 0.04332\n",
            "28/28 [==============================] - 6s 216ms/step - loss: 0.0647 - accuracy: 0.9834 - val_loss: 0.0605 - val_accuracy: 0.9736 - lr: 2.4706e-04\n",
            "Epoch 50/100\n",
            "28/28 [==============================] - ETA: 0s - loss: 0.0545 - accuracy: 0.9806\n",
            "Epoch 50: val_loss did not improve from 0.04332\n",
            "28/28 [==============================] - 6s 219ms/step - loss: 0.0545 - accuracy: 0.9806 - val_loss: 0.0540 - val_accuracy: 0.9736 - lr: 2.4706e-04\n",
            "Epoch 51/100\n",
            "28/28 [==============================] - ETA: 0s - loss: 0.0486 - accuracy: 0.9840\n",
            "Epoch 51: val_loss did not improve from 0.04332\n",
            "28/28 [==============================] - 6s 216ms/step - loss: 0.0486 - accuracy: 0.9840 - val_loss: 0.0519 - val_accuracy: 0.9758 - lr: 2.4706e-04\n",
            "Epoch 52/100\n",
            "28/28 [==============================] - ETA: 0s - loss: 0.0433 - accuracy: 0.9869\n",
            "Epoch 52: val_loss did not improve from 0.04332\n",
            "28/28 [==============================] - 6s 218ms/step - loss: 0.0433 - accuracy: 0.9869 - val_loss: 0.0571 - val_accuracy: 0.9758 - lr: 2.4706e-04\n",
            "Epoch 53/100\n",
            "28/28 [==============================] - ETA: 0s - loss: 0.0382 - accuracy: 0.9852\n",
            "Epoch 53: ReduceLROnPlateau reducing learning rate to 0.00017294401768594978.\n",
            "\n",
            "Epoch 53: val_loss did not improve from 0.04332\n",
            "28/28 [==============================] - 6s 220ms/step - loss: 0.0382 - accuracy: 0.9852 - val_loss: 0.0566 - val_accuracy: 0.9758 - lr: 2.4706e-04\n",
            "Epoch 54/100\n",
            "28/28 [==============================] - ETA: 0s - loss: 0.0455 - accuracy: 0.9857\n",
            "Epoch 54: val_loss did not improve from 0.04332\n",
            "28/28 [==============================] - 6s 216ms/step - loss: 0.0455 - accuracy: 0.9857 - val_loss: 0.0491 - val_accuracy: 0.9802 - lr: 1.7294e-04\n",
            "Epoch 55/100\n",
            "28/28 [==============================] - ETA: 0s - loss: 0.0434 - accuracy: 0.9846\n",
            "Epoch 55: val_loss did not improve from 0.04332\n",
            "28/28 [==============================] - 6s 219ms/step - loss: 0.0434 - accuracy: 0.9846 - val_loss: 0.0484 - val_accuracy: 0.9780 - lr: 1.7294e-04\n",
            "Epoch 56/100\n",
            "28/28 [==============================] - ETA: 0s - loss: 0.0526 - accuracy: 0.9840\n",
            "Epoch 56: val_loss did not improve from 0.04332\n",
            "28/28 [==============================] - 6s 216ms/step - loss: 0.0526 - accuracy: 0.9840 - val_loss: 0.0507 - val_accuracy: 0.9780 - lr: 1.7294e-04\n",
            "Epoch 57/100\n",
            "28/28 [==============================] - ETA: 0s - loss: 0.0493 - accuracy: 0.9829\n",
            "Epoch 57: val_loss did not improve from 0.04332\n",
            "28/28 [==============================] - 6s 221ms/step - loss: 0.0493 - accuracy: 0.9829 - val_loss: 0.0519 - val_accuracy: 0.9780 - lr: 1.7294e-04\n",
            "Epoch 58/100\n",
            "28/28 [==============================] - ETA: 0s - loss: 0.0531 - accuracy: 0.9777\n",
            "Epoch 58: ReduceLROnPlateau reducing learning rate to 0.00012106080830562859.\n",
            "\n",
            "Epoch 58: val_loss did not improve from 0.04332\n",
            "28/28 [==============================] - 6s 216ms/step - loss: 0.0531 - accuracy: 0.9777 - val_loss: 0.0501 - val_accuracy: 0.9780 - lr: 1.7294e-04\n",
            "Epoch 59/100\n",
            "28/28 [==============================] - ETA: 0s - loss: 0.0472 - accuracy: 0.9823\n",
            "Epoch 59: val_loss did not improve from 0.04332\n",
            "28/28 [==============================] - 6s 219ms/step - loss: 0.0472 - accuracy: 0.9823 - val_loss: 0.0553 - val_accuracy: 0.9758 - lr: 1.2106e-04\n",
            "Epoch 60/100\n",
            "28/28 [==============================] - ETA: 0s - loss: 0.0470 - accuracy: 0.9834\n",
            "Epoch 60: val_loss did not improve from 0.04332\n",
            "28/28 [==============================] - 6s 219ms/step - loss: 0.0470 - accuracy: 0.9834 - val_loss: 0.0556 - val_accuracy: 0.9758 - lr: 1.2106e-04\n",
            "Epoch 61/100\n",
            "28/28 [==============================] - ETA: 0s - loss: 0.0446 - accuracy: 0.9846\n",
            "Epoch 61: val_loss did not improve from 0.04332\n",
            "28/28 [==============================] - 6s 216ms/step - loss: 0.0446 - accuracy: 0.9846 - val_loss: 0.0555 - val_accuracy: 0.9758 - lr: 1.2106e-04\n",
            "Epoch 62/100\n",
            "28/28 [==============================] - ETA: 0s - loss: 0.0443 - accuracy: 0.9834\n",
            "Epoch 62: val_loss did not improve from 0.04332\n",
            "28/28 [==============================] - 6s 219ms/step - loss: 0.0443 - accuracy: 0.9834 - val_loss: 0.0628 - val_accuracy: 0.9758 - lr: 1.2106e-04\n",
            "Epoch 63/100\n",
            "28/28 [==============================] - ETA: 0s - loss: 0.0435 - accuracy: 0.9817\n",
            "Epoch 63: ReduceLROnPlateau reducing learning rate to 0.0001.\n",
            "\n",
            "Epoch 63: val_loss did not improve from 0.04332\n",
            "28/28 [==============================] - 6s 219ms/step - loss: 0.0435 - accuracy: 0.9817 - val_loss: 0.0593 - val_accuracy: 0.9758 - lr: 1.2106e-04\n",
            "Epoch 64/100\n",
            "28/28 [==============================] - ETA: 0s - loss: 0.0526 - accuracy: 0.9817\n",
            "Epoch 64: val_loss did not improve from 0.04332\n",
            "28/28 [==============================] - 6s 218ms/step - loss: 0.0526 - accuracy: 0.9817 - val_loss: 0.0580 - val_accuracy: 0.9758 - lr: 1.0000e-04\n",
            "Epoch 65/100\n",
            "28/28 [==============================] - ETA: 0s - loss: 0.0360 - accuracy: 0.9886\n",
            "Epoch 65: val_loss did not improve from 0.04332\n",
            "28/28 [==============================] - 6s 216ms/step - loss: 0.0360 - accuracy: 0.9886 - val_loss: 0.0506 - val_accuracy: 0.9758 - lr: 1.0000e-04\n",
            "Epoch 66/100\n",
            "28/28 [==============================] - ETA: 0s - loss: 0.0361 - accuracy: 0.9874\n",
            "Epoch 66: val_loss did not improve from 0.04332\n",
            "28/28 [==============================] - 6s 216ms/step - loss: 0.0361 - accuracy: 0.9874 - val_loss: 0.0494 - val_accuracy: 0.9758 - lr: 1.0000e-04\n",
            "Epoch 67/100\n",
            "28/28 [==============================] - ETA: 0s - loss: 0.0518 - accuracy: 0.9840\n",
            "Epoch 67: val_loss did not improve from 0.04332\n",
            "28/28 [==============================] - 6s 217ms/step - loss: 0.0518 - accuracy: 0.9840 - val_loss: 0.0475 - val_accuracy: 0.9758 - lr: 1.0000e-04\n",
            "Epoch 68/100\n",
            "28/28 [==============================] - ETA: 0s - loss: 0.0354 - accuracy: 0.9897\n",
            "Epoch 68: val_loss did not improve from 0.04332\n",
            "28/28 [==============================] - 6s 216ms/step - loss: 0.0354 - accuracy: 0.9897 - val_loss: 0.0472 - val_accuracy: 0.9780 - lr: 1.0000e-04\n",
            "Epoch 69/100\n",
            "28/28 [==============================] - ETA: 0s - loss: 0.0526 - accuracy: 0.9823\n",
            "Epoch 69: val_loss did not improve from 0.04332\n",
            "28/28 [==============================] - 6s 217ms/step - loss: 0.0526 - accuracy: 0.9823 - val_loss: 0.0473 - val_accuracy: 0.9780 - lr: 1.0000e-04\n",
            "Epoch 70/100\n",
            "28/28 [==============================] - ETA: 0s - loss: 0.0435 - accuracy: 0.9857\n",
            "Epoch 70: val_loss did not improve from 0.04332\n",
            "28/28 [==============================] - 6s 221ms/step - loss: 0.0435 - accuracy: 0.9857 - val_loss: 0.0447 - val_accuracy: 0.9780 - lr: 1.0000e-04\n",
            "Epoch 71/100\n",
            "28/28 [==============================] - ETA: 0s - loss: 0.0403 - accuracy: 0.9874\n",
            "Epoch 71: val_loss did not improve from 0.04332\n",
            "28/28 [==============================] - 6s 219ms/step - loss: 0.0403 - accuracy: 0.9874 - val_loss: 0.0439 - val_accuracy: 0.9780 - lr: 1.0000e-04\n",
            "Epoch 72/100\n",
            "28/28 [==============================] - ETA: 0s - loss: 0.0467 - accuracy: 0.9846\n",
            "Epoch 72: val_loss did not improve from 0.04332\n",
            "28/28 [==============================] - 6s 215ms/step - loss: 0.0467 - accuracy: 0.9846 - val_loss: 0.0445 - val_accuracy: 0.9780 - lr: 1.0000e-04\n",
            "Epoch 73/100\n",
            "28/28 [==============================] - ETA: 0s - loss: 0.0422 - accuracy: 0.9829\n",
            "Epoch 73: val_loss did not improve from 0.04332\n",
            "28/28 [==============================] - 6s 219ms/step - loss: 0.0422 - accuracy: 0.9829 - val_loss: 0.0474 - val_accuracy: 0.9758 - lr: 1.0000e-04\n",
            "Epoch 74/100\n",
            "28/28 [==============================] - ETA: 0s - loss: 0.0379 - accuracy: 0.9857\n",
            "Epoch 74: val_loss did not improve from 0.04332\n",
            "28/28 [==============================] - 6s 221ms/step - loss: 0.0379 - accuracy: 0.9857 - val_loss: 0.0506 - val_accuracy: 0.9758 - lr: 1.0000e-04\n",
            "Epoch 75/100\n",
            "28/28 [==============================] - ETA: 0s - loss: 0.0410 - accuracy: 0.9880\n",
            "Epoch 75: val_loss did not improve from 0.04332\n",
            "28/28 [==============================] - 6s 214ms/step - loss: 0.0410 - accuracy: 0.9880 - val_loss: 0.0502 - val_accuracy: 0.9758 - lr: 1.0000e-04\n",
            "Epoch 76/100\n",
            "28/28 [==============================] - ETA: 0s - loss: 0.0360 - accuracy: 0.9869\n",
            "Epoch 76: val_loss did not improve from 0.04332\n",
            "28/28 [==============================] - 6s 216ms/step - loss: 0.0360 - accuracy: 0.9869 - val_loss: 0.0481 - val_accuracy: 0.9758 - lr: 1.0000e-04\n",
            "Epoch 77/100\n",
            "28/28 [==============================] - ETA: 0s - loss: 0.0475 - accuracy: 0.9840\n",
            "Epoch 77: val_loss did not improve from 0.04332\n",
            "28/28 [==============================] - 6s 216ms/step - loss: 0.0475 - accuracy: 0.9840 - val_loss: 0.0451 - val_accuracy: 0.9780 - lr: 1.0000e-04\n",
            "Epoch 78/100\n",
            "28/28 [==============================] - ETA: 0s - loss: 0.0452 - accuracy: 0.9840\n",
            "Epoch 78: val_loss improved from 0.04332 to 0.04315, saving model to ResNet50_Model.hdf5\n",
            "28/28 [==============================] - 10s 365ms/step - loss: 0.0452 - accuracy: 0.9840 - val_loss: 0.0432 - val_accuracy: 0.9780 - lr: 1.0000e-04\n",
            "Epoch 79/100\n",
            "28/28 [==============================] - ETA: 0s - loss: 0.0336 - accuracy: 0.9852\n",
            "Epoch 79: val_loss improved from 0.04315 to 0.04037, saving model to ResNet50_Model.hdf5\n",
            "28/28 [==============================] - 8s 298ms/step - loss: 0.0336 - accuracy: 0.9852 - val_loss: 0.0404 - val_accuracy: 0.9802 - lr: 1.0000e-04\n",
            "Epoch 80/100\n",
            "28/28 [==============================] - ETA: 0s - loss: 0.0383 - accuracy: 0.9846\n",
            "Epoch 80: val_loss improved from 0.04037 to 0.03964, saving model to ResNet50_Model.hdf5\n",
            "28/28 [==============================] - 8s 295ms/step - loss: 0.0383 - accuracy: 0.9846 - val_loss: 0.0396 - val_accuracy: 0.9824 - lr: 1.0000e-04\n",
            "Epoch 81/100\n",
            "28/28 [==============================] - ETA: 0s - loss: 0.0465 - accuracy: 0.9829\n",
            "Epoch 81: val_loss improved from 0.03964 to 0.03835, saving model to ResNet50_Model.hdf5\n",
            "28/28 [==============================] - 9s 304ms/step - loss: 0.0465 - accuracy: 0.9829 - val_loss: 0.0383 - val_accuracy: 0.9824 - lr: 1.0000e-04\n",
            "Epoch 82/100\n",
            "28/28 [==============================] - ETA: 0s - loss: 0.0453 - accuracy: 0.9863\n",
            "Epoch 82: val_loss improved from 0.03835 to 0.03626, saving model to ResNet50_Model.hdf5\n",
            "28/28 [==============================] - 8s 297ms/step - loss: 0.0453 - accuracy: 0.9863 - val_loss: 0.0363 - val_accuracy: 0.9824 - lr: 1.0000e-04\n",
            "Epoch 83/100\n",
            "28/28 [==============================] - ETA: 0s - loss: 0.0461 - accuracy: 0.9827\n",
            "Epoch 83: val_loss did not improve from 0.03626\n",
            "28/28 [==============================] - 7s 234ms/step - loss: 0.0461 - accuracy: 0.9827 - val_loss: 0.0395 - val_accuracy: 0.9824 - lr: 1.0000e-04\n",
            "Epoch 84/100\n",
            "28/28 [==============================] - ETA: 0s - loss: 0.0497 - accuracy: 0.9823\n",
            "Epoch 84: val_loss did not improve from 0.03626\n",
            "28/28 [==============================] - 6s 219ms/step - loss: 0.0497 - accuracy: 0.9823 - val_loss: 0.0384 - val_accuracy: 0.9846 - lr: 1.0000e-04\n",
            "Epoch 85/100\n",
            "28/28 [==============================] - ETA: 0s - loss: 0.0491 - accuracy: 0.9823\n",
            "Epoch 85: val_loss did not improve from 0.03626\n",
            "28/28 [==============================] - 6s 216ms/step - loss: 0.0491 - accuracy: 0.9823 - val_loss: 0.0363 - val_accuracy: 0.9846 - lr: 1.0000e-04\n",
            "Epoch 86/100\n",
            "28/28 [==============================] - ETA: 0s - loss: 0.0483 - accuracy: 0.9829\n",
            "Epoch 86: val_loss improved from 0.03626 to 0.03621, saving model to ResNet50_Model.hdf5\n",
            "28/28 [==============================] - 10s 360ms/step - loss: 0.0483 - accuracy: 0.9829 - val_loss: 0.0362 - val_accuracy: 0.9846 - lr: 1.0000e-04\n",
            "Epoch 87/100\n",
            "28/28 [==============================] - ETA: 0s - loss: 0.0417 - accuracy: 0.9834\n",
            "Epoch 87: val_loss did not improve from 0.03621\n",
            "28/28 [==============================] - 6s 218ms/step - loss: 0.0417 - accuracy: 0.9834 - val_loss: 0.0384 - val_accuracy: 0.9846 - lr: 1.0000e-04\n",
            "Epoch 88/100\n",
            "28/28 [==============================] - ETA: 0s - loss: 0.0449 - accuracy: 0.9852\n",
            "Epoch 88: val_loss did not improve from 0.03621\n",
            "28/28 [==============================] - 6s 224ms/step - loss: 0.0449 - accuracy: 0.9852 - val_loss: 0.0400 - val_accuracy: 0.9824 - lr: 1.0000e-04\n",
            "Epoch 89/100\n",
            "28/28 [==============================] - ETA: 0s - loss: 0.0411 - accuracy: 0.9834\n",
            "Epoch 89: val_loss did not improve from 0.03621\n",
            "28/28 [==============================] - 6s 216ms/step - loss: 0.0411 - accuracy: 0.9834 - val_loss: 0.0424 - val_accuracy: 0.9802 - lr: 1.0000e-04\n",
            "Epoch 90/100\n",
            "28/28 [==============================] - ETA: 0s - loss: 0.0432 - accuracy: 0.9863\n",
            "Epoch 90: val_loss did not improve from 0.03621\n",
            "28/28 [==============================] - 6s 217ms/step - loss: 0.0432 - accuracy: 0.9863 - val_loss: 0.0410 - val_accuracy: 0.9802 - lr: 1.0000e-04\n",
            "Epoch 91/100\n",
            "28/28 [==============================] - ETA: 0s - loss: 0.0371 - accuracy: 0.9874\n",
            "Epoch 91: val_loss did not improve from 0.03621\n",
            "28/28 [==============================] - 6s 217ms/step - loss: 0.0371 - accuracy: 0.9874 - val_loss: 0.0394 - val_accuracy: 0.9824 - lr: 1.0000e-04\n",
            "Epoch 92/100\n",
            "28/28 [==============================] - ETA: 0s - loss: 0.0401 - accuracy: 0.9874\n",
            "Epoch 92: val_loss did not improve from 0.03621\n",
            "28/28 [==============================] - 6s 220ms/step - loss: 0.0401 - accuracy: 0.9874 - val_loss: 0.0413 - val_accuracy: 0.9802 - lr: 1.0000e-04\n",
            "Epoch 93/100\n",
            "28/28 [==============================] - ETA: 0s - loss: 0.0334 - accuracy: 0.9909\n",
            "Epoch 93: val_loss did not improve from 0.03621\n",
            "28/28 [==============================] - 6s 219ms/step - loss: 0.0334 - accuracy: 0.9909 - val_loss: 0.0447 - val_accuracy: 0.9758 - lr: 1.0000e-04\n",
            "Epoch 94/100\n",
            "28/28 [==============================] - ETA: 0s - loss: 0.0441 - accuracy: 0.9846\n",
            "Epoch 94: val_loss did not improve from 0.03621\n",
            "28/28 [==============================] - 6s 219ms/step - loss: 0.0441 - accuracy: 0.9846 - val_loss: 0.0470 - val_accuracy: 0.9758 - lr: 1.0000e-04\n",
            "Epoch 95/100\n",
            "28/28 [==============================] - ETA: 0s - loss: 0.0338 - accuracy: 0.9900\n",
            "Epoch 95: val_loss did not improve from 0.03621\n",
            "28/28 [==============================] - 6s 222ms/step - loss: 0.0338 - accuracy: 0.9900 - val_loss: 0.0499 - val_accuracy: 0.9758 - lr: 1.0000e-04\n",
            "Epoch 96/100\n",
            "28/28 [==============================] - ETA: 0s - loss: 0.0336 - accuracy: 0.9874\n",
            "Epoch 96: val_loss did not improve from 0.03621\n",
            "28/28 [==============================] - 6s 217ms/step - loss: 0.0336 - accuracy: 0.9874 - val_loss: 0.0415 - val_accuracy: 0.9780 - lr: 1.0000e-04\n",
            "Epoch 97/100\n",
            "28/28 [==============================] - ETA: 0s - loss: 0.0461 - accuracy: 0.9846\n",
            "Epoch 97: val_loss did not improve from 0.03621\n",
            "28/28 [==============================] - 6s 220ms/step - loss: 0.0461 - accuracy: 0.9846 - val_loss: 0.0417 - val_accuracy: 0.9780 - lr: 1.0000e-04\n",
            "Epoch 98/100\n",
            "28/28 [==============================] - ETA: 0s - loss: 0.0411 - accuracy: 0.9857\n",
            "Epoch 98: val_loss did not improve from 0.03621\n",
            "28/28 [==============================] - 6s 217ms/step - loss: 0.0411 - accuracy: 0.9857 - val_loss: 0.0411 - val_accuracy: 0.9780 - lr: 1.0000e-04\n",
            "Epoch 99/100\n",
            "28/28 [==============================] - ETA: 0s - loss: 0.0387 - accuracy: 0.9840\n",
            "Epoch 99: val_loss did not improve from 0.03621\n",
            "28/28 [==============================] - 6s 217ms/step - loss: 0.0387 - accuracy: 0.9840 - val_loss: 0.0410 - val_accuracy: 0.9780 - lr: 1.0000e-04\n",
            "Epoch 100/100\n",
            "28/28 [==============================] - ETA: 0s - loss: 0.0402 - accuracy: 0.9869\n",
            "Epoch 100: val_loss did not improve from 0.03621\n",
            "28/28 [==============================] - 6s 220ms/step - loss: 0.0402 - accuracy: 0.9869 - val_loss: 0.0423 - val_accuracy: 0.9780 - lr: 1.0000e-04\n"
          ]
        }
      ]
    },
    {
      "cell_type": "code",
      "source": [
        "acc = history.history['accuracy']\n",
        "val_acc = history.history['val_accuracy']\n",
        "loss = history.history['loss']\n",
        "val_loss = history.history['val_loss']"
      ],
      "metadata": {
        "id": "yb30zeTMX_bs"
      },
      "execution_count": 16,
      "outputs": []
    },
    {
      "cell_type": "code",
      "source": [
        "epochs = range(len(acc))\n",
        "plt.plot(epochs, acc, 'r', label='Training accuracy')\n",
        "plt.plot(epochs, val_acc, 'b', label='Validation accuracy')\n",
        "plt.title('TraiN & Val Acc VS Epochs')\n",
        "plt.legend(loc=0)\n",
        "plt.figure()\n",
        "plt.show()"
      ],
      "metadata": {
        "id": "wbEMqC47YDnm",
        "colab": {
          "base_uri": "https://localhost:8080/",
          "height": 299
        },
        "outputId": "d24e7dc0-842f-4198-eaab-78ebb0f34018"
      },
      "execution_count": 17,
      "outputs": [
        {
          "output_type": "display_data",
          "data": {
            "text/plain": [
              "<Figure size 432x288 with 1 Axes>"
            ],
            "image/png": "[encoded data removed]"
          },
          "metadata": {
            "needs_background": "light"
          }
        },
        {
          "output_type": "display_data",
          "data": {
            "text/plain": [
              "<Figure size 432x288 with 0 Axes>"
            ]
          },
          "metadata": {}
        }
      ]
    },
    {
      "cell_type": "code",
      "source": [
        "epochs = range(len(acc))\n",
        "plt.plot(epochs, loss, 'r', label='Training Loss')\n",
        "plt.plot(epochs, val_loss, 'b', label='Validation Loss')\n",
        "plt.title('TraiN & Val Loss VS Epochs')\n",
        "plt.legend(loc=0)\n",
        "plt.figure()\n",
        "plt.show()"
      ],
      "metadata": {
        "id": "vqwcVH4GYHrX",
        "colab": {
          "base_uri": "https://localhost:8080/",
          "height": 299
        },
        "outputId": "067a120b-0417-45c8-8313-4660f22e4169"
      },
      "execution_count": 18,
      "outputs": [
        {
          "output_type": "display_data",
          "data": {
            "text/plain": [
              "<Figure size 432x288 with 1 Axes>"
            ],
            "image/png": "[encoded data removed]"
          },
          "metadata": {
            "needs_background": "light"
          }
        },
        {
          "output_type": "display_data",
          "data": {
            "text/plain": [
              "<Figure size 432x288 with 0 Axes>"
            ]
          },
          "metadata": {}
        }
      ]
    },
    {
      "cell_type": "code",
      "source": [
        "model.load_weights(\"ResNet50_Model.hdf5\")\n",
        "score = model.evaluate(X_val, Y_val ,verbose=1)\n",
        "print('Test Loss:', score[0])\n",
        "print('Test accuracy:', score[1]*100)"
      ],
      "metadata": {
        "id": "sOLcKpqFYMed",
        "colab": {
          "base_uri": "https://localhost:8080/"
        },
        "outputId": "e6fcc306-4669-4e03-dae1-7fc156167802"
      },
      "execution_count": 19,
      "outputs": [
        {
          "output_type": "stream",
          "name": "stdout",
          "text": [
            "15/15 [==============================] - 1s 50ms/step - loss: 0.0362 - accuracy: 0.9846\n",
            "Test Loss: 0.03621131181716919\n",
            "Test accuracy: 98.46153855323792\n"
          ]
        }
      ]
    },
    {
      "cell_type": "code",
      "source": [
        "Y_pred = model.predict(X_val)\n",
        "Y_predx = np.argmax(Y_pred, axis = -1)\n",
        "Y_valx = np.argmax(Y_val, axis = -1)\n",
        "cf_matrix = confusion_matrix(Y_valx, Y_predx)\n",
        "group_names = ['True Neg','False Pos','False Neg','True Pos']\n",
        "group_counts = [\"{0:0.0f}\".format(value) for value in\n",
        "                cf_matrix.flatten()]\n",
        "group_percentages = [\"{0:.2%}\".format(value) for value in\n",
        "                     cf_matrix.flatten()/np.sum(cf_matrix)]\n",
        "labels = [f\"{v1}\\n{v2}\\n{v3}\" for v1, v2, v3 in\n",
        "          zip(group_names,group_counts,group_percentages)]\n",
        "labels = np.asarray(labels).reshape(2,2)\n",
        "sns.heatmap(cf_matrix, annot = labels, fmt = '')\n",
        "plt.title(\"Confusion Matrix\")"
      ],
      "metadata": {
        "id": "TJJMwIC4YOb0",
        "colab": {
          "base_uri": "https://localhost:8080/",
          "height": 299
        },
        "outputId": "b4114eb3-1977-4ae1-ceec-f9425f2e9adc"
      },
      "execution_count": 20,
      "outputs": [
        {
          "output_type": "execute_result",
          "data": {
            "text/plain": [
              "Text(0.5, 1.0, 'Confusion Matrix')"
            ]
          },
          "metadata": {},
          "execution_count": 20
        },
        {
          "output_type": "display_data",
          "data": {
            "text/plain": [
              "<Figure size 432x288 with 2 Axes>"
            ],
            "image/png": "[encoded data removed]"
          },
          "metadata": {
            "needs_background": "light"
          }
        }
      ]
    }
  ]
}