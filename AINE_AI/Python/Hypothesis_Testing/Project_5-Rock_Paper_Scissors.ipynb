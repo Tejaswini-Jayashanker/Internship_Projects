{
 "cells": [
  {
   "cell_type": "markdown",
   "id": "70c03c52",
   "metadata": {},
   "source": [
    "# Write a Program in Python to develop a Rock, Paper and Scissors game to be played against a Computer.\n",
    "\n",
    "VIP@AINEAI"
   ]
  },
  {
   "cell_type": "code",
   "execution_count": 1,
   "id": "7d6f4a84",
   "metadata": {},
   "outputs": [],
   "source": [
    "#Importing Libraries\n",
    "import random"
   ]
  },
  {
   "cell_type": "markdown",
   "id": "4f2e8ddb",
   "metadata": {},
   "source": [
    "The player Score and Computer Score is kept the same if the game is tied.\n",
    "Rules:\n",
    "1. The user can play at max of 10 rounds.\n",
    "2. If the user wishes to continue, 'Y' or 'y' should be entered.\n",
    "3. Rock smashes Scissors.\n",
    "4. Scissors Cut paper.\n",
    "5. Paper catches the Rock.\n",
    "6. If  it's a Tie, The previous scores will reamin and not updated."
   ]
  },
  {
   "cell_type": "code",
   "execution_count": 4,
   "id": "477fc953",
   "metadata": {},
   "outputs": [
    {
     "name": "stdout",
     "output_type": "stream",
     "text": [
      "Please enter the number of Rounds you want to play : 7\n"
     ]
    }
   ],
   "source": [
    "#Initialise as the Player wants to play.\n",
    "player_cont = 'Y'\n",
    "player_score = 0\n",
    "comp_score = 0\n",
    "#Possible Actions in the game:\n",
    "actions_list = [ 'R', 'P', 'S', 'L', 'SP' ] # R = Rock, P = Paper, S = Scissors, L = Lizard, Sp = Spock\n",
    "#Number of Rounds the Player wants to play\n",
    "no_rounds =  int( input( \"Please enter the number of Rounds you want to play : \") )\n",
    "if (no_rounds > 10 or no_rounds <= 0 ):\n",
    "    print(\"Too Many/Too little rounds. Exiting...!\")\n",
    "    player_cont = 'Q'"
   ]
  },
  {
   "cell_type": "code",
   "execution_count": 5,
   "id": "553550d0",
   "metadata": {},
   "outputs": [
    {
     "name": "stdout",
     "output_type": "stream",
     "text": [
      "Do you wish to continue? (Y/Q)Y\n",
      "Enter a choice: ( R = Rock, P = Paper, S = Scissors, L = Lizard, Sp = Spock): R\n",
      "Number of Rounds remaining:  6\n",
      "It's a Tie!\n",
      "Do you wish to continue? (Y/Q)Y\n",
      "Enter a choice: ( R = Rock, P = Paper, S = Scissors, L = Lizard, Sp = Spock): P\n",
      "Number of Rounds remaining:  5\n",
      "User Wins! \n",
      "Your Choice is P and Computer Choice is SP\n",
      "\n",
      "Do you wish to continue? (Y/Q)Y\n",
      "Enter a choice: ( R = Rock, P = Paper, S = Scissors, L = Lizard, Sp = Spock): S\n",
      "Number of Rounds remaining:  4\n",
      "Computer Wins! \n",
      "Your Choice is S and Computer Choice is R\n",
      "\n",
      "Do you wish to continue? (Y/Q)Y\n",
      "Enter a choice: ( R = Rock, P = Paper, S = Scissors, L = Lizard, Sp = Spock): SP\n",
      "Number of Rounds remaining:  3\n",
      "Computer Wins! \n",
      "Your Choice is SP and Computer Choice is L\n",
      "\n",
      "Do you wish to continue? (Y/Q)Y\n",
      "Enter a choice: ( R = Rock, P = Paper, S = Scissors, L = Lizard, Sp = Spock): L\n",
      "Number of Rounds remaining:  2\n",
      "User Wins! \n",
      "Your Choice is L and Computer Choice is SP\n",
      "\n",
      "Do you wish to continue? (Y/Q)Q\n",
      "Exiting...!\n",
      "-------------------ScoreBoard----------------\n",
      "User Score =  2\n",
      "Computer Score =  2\n"
     ]
    }
   ],
   "source": [
    "#Play for the user entered rounds and ask if the User wants to play or quit immediately.\n",
    "while( no_rounds > 0 and player_cont == 'Y' ):\n",
    "    player_cont = input(\"Do you wish to continue? (Y/Q)\")\n",
    "    if( player_cont.upper() != 'Y' ):\n",
    "        no_rounds = 0\n",
    "        print(\"Exiting...!\")\n",
    "        break\n",
    "    else:\n",
    "        no_rounds -= 1   #Decrement, remaining rounds.\n",
    "        \n",
    "        user_choice = input(\"Enter a choice: ( R = Rock, P = Paper, S = Scissors, L = Lizard, Sp = Spock): \")\n",
    "        user_choice = user_choice.upper()\n",
    "        \n",
    "        print( \"Number of Rounds remaining: \", no_rounds )\n",
    "        \n",
    "        if( user_choice not in actions_list):\n",
    "            print(\"Incorrect User Choice! Exiting!\")\n",
    "            break\n",
    "        comp_play = random.choice( actions_list )\n",
    "               \n",
    "        if ( comp_play == user_choice ):\n",
    "            print( \"It's a Tie!\" )\n",
    "            comp_score = comp_score\n",
    "            player_score = player_score\n",
    "        elif ( comp_play == 'R' and ( user_choice == 'P' or user_choice == 'SP') ):\n",
    "            print(f\"User Wins! \\nYour Choice is { user_choice } and Computer Choice is { comp_play }\\n\" )\n",
    "            player_score += 1\n",
    "            comp_score = comp_score\n",
    "        elif ( comp_play == 'P' and ( user_choice == 'S' or user_choice == 'L' ) ):\n",
    "            print( f\"User Wins! \\nYour Choice is { user_choice } and Computer Choice is { comp_play }\\n\" )\n",
    "            player_score += 1\n",
    "            comp_score = comp_score\n",
    "        elif ( comp_play == 'S' and ( user_choice == 'R'or user_choice == 'SP' ) ):\n",
    "            print( f\"User Wins! \\nYour Choice is { user_choice } and Computer Choice is { comp_play }\\n\" )\n",
    "            player_score += 1\n",
    "            comp_score = comp_score\n",
    "        elif (comp_play == 'L' and (user_choice == 'R' or user_choice == 'S') ):\n",
    "            print( f\"User Wins! \\nYour Choice is { user_choice } and Computer Choice is { comp_play }\\n\" )\n",
    "            player_score += 1\n",
    "            comp_score = comp_score\n",
    "        elif (comp_play == 'SP' and (user_choice == 'L' or user_choice == 'P') ):\n",
    "            print( f\"User Wins! \\nYour Choice is { user_choice } and Computer Choice is { comp_play }\\n\" )\n",
    "            player_score += 1\n",
    "            comp_score = comp_score         \n",
    "        else:\n",
    "            player_score = player_score\n",
    "            comp_score += 1\n",
    "            print( f\"Computer Wins! \\nYour Choice is { user_choice } and Computer Choice is { comp_play }\\n\" )\n",
    "print(\"-------------------ScoreBoard----------------\")\n",
    "print(\"User Score = \", player_score )\n",
    "print(\"Computer Score = \", comp_score)\n",
    "player_score = 0\n",
    "comp_score = 0"
   ]
  }
 ],
 "metadata": {
  "kernelspec": {
   "display_name": "Python 3",
   "language": "python",
   "name": "python3"
  },
  "language_info": {
   "codemirror_mode": {
    "name": "ipython",
    "version": 3
   },
   "file_extension": ".py",
   "mimetype": "text/x-python",
   "name": "python",
   "nbconvert_exporter": "python",
   "pygments_lexer": "ipython3",
   "version": "3.8.8"
  }
 },
 "nbformat": 4,
 "nbformat_minor": 5
}
